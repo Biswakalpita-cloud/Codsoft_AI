{
  "cells": [
    {
      "cell_type": "code",
      "execution_count": 1,
      "metadata": {
        "colab": {
          "base_uri": "https://localhost:8080/"
        },
        "id": "Il1t4yTEIlgG",
        "outputId": "de9ff03e-2086-41b3-c848-4dcfb3b2e862"
      },
      "outputs": [
        {
          "name": "stdout",
          "output_type": "stream",
          "text": [
            "Requirement already satisfied: pandas in /usr/local/lib/python3.10/dist-packages (2.0.3)\n",
            "Collecting surprise\n",
            "  Downloading surprise-0.1-py2.py3-none-any.whl.metadata (327 bytes)\n",
            "Requirement already satisfied: python-dateutil>=2.8.2 in /usr/local/lib/python3.10/dist-packages (from pandas) (2.8.2)\n",
            "Requirement already satisfied: pytz>=2020.1 in /usr/local/lib/python3.10/dist-packages (from pandas) (2023.4)\n",
            "Requirement already satisfied: tzdata>=2022.1 in /usr/local/lib/python3.10/dist-packages (from pandas) (2024.1)\n",
            "Requirement already satisfied: numpy>=1.21.0 in /usr/local/lib/python3.10/dist-packages (from pandas) (1.25.2)\n",
            "Collecting scikit-surprise (from surprise)\n",
            "  Downloading scikit_surprise-1.1.4.tar.gz (154 kB)\n",
            "\u001b[2K     \u001b[90m━━━━━━━━━━━━━━━━━━━━━━━━━━━━━━━━━━━━━━━━\u001b[0m \u001b[32m154.4/154.4 kB\u001b[0m \u001b[31m1.0 MB/s\u001b[0m eta \u001b[36m0:00:00\u001b[0m\n",
            "\u001b[?25h  Installing build dependencies ... \u001b[?25l\u001b[?25hdone\n",
            "  Getting requirements to build wheel ... \u001b[?25l\u001b[?25hdone\n",
            "  Preparing metadata (pyproject.toml) ... \u001b[?25l\u001b[?25hdone\n",
            "Requirement already satisfied: six>=1.5 in /usr/local/lib/python3.10/dist-packages (from python-dateutil>=2.8.2->pandas) (1.16.0)\n",
            "Requirement already satisfied: joblib>=1.2.0 in /usr/local/lib/python3.10/dist-packages (from scikit-surprise->surprise) (1.4.2)\n",
            "Requirement already satisfied: scipy>=1.6.0 in /usr/local/lib/python3.10/dist-packages (from scikit-surprise->surprise) (1.11.4)\n",
            "Downloading surprise-0.1-py2.py3-none-any.whl (1.8 kB)\n",
            "Building wheels for collected packages: scikit-surprise\n",
            "  Building wheel for scikit-surprise (pyproject.toml) ... \u001b[?25l\u001b[?25hdone\n",
            "  Created wheel for scikit-surprise: filename=scikit_surprise-1.1.4-cp310-cp310-linux_x86_64.whl size=2357255 sha256=91b8e37436a27410a86e28cd1b5116637877e7907b91ff054470c074a296ae84\n",
            "  Stored in directory: /root/.cache/pip/wheels/4b/3f/df/6acbf0a40397d9bf3ff97f582cc22fb9ce66adde75bc71fd54\n",
            "Successfully built scikit-surprise\n"
          ]
        }
      ],
      "source": [
        "pip install pandas surprise\n"
      ]
    },
    {
      "cell_type": "code",
      "execution_count": 20,
      "metadata": {
        "id": "0Y4BAsKoJSuh"
      },
      "outputs": [],
      "source": [
        "import pandas as pd\n",
        "\n",
        "# Create the ratings dataframe\n",
        "ratings_data = {\n",
        "    'userId': [1, 1, 1, 2, 2, 2, 3, 3, 3, 4, 4, 4, 5, 5, 5],\n",
        "    'movieId': [101, 102, 103, 101, 104, 105, 101, 102, 106, 103, 104, 107, 105, 106, 107],\n",
        "    'rating': [5, 3, 2, 4, 5, 1, 2, 4, 5, 3, 4, 2, 5, 3, 4]\n",
        "}\n",
        "ratings_df = pd.DataFrame(ratings_data)\n",
        "ratings_df.to_csv('ratings.csv', index=False)\n",
        "\n",
        "# Create the movies dataframe\n",
        "movies_data = {\n",
        "    'movieId': [101, 102, 103, 104, 105, 106, 107],\n",
        "    'title': ['Mission Impossible', 'Phir hera pheri', 'Fast and Furious', 'Mr. Bean', 'Harry Potters', 'Hunger Games', 'Interstellar'],\n",
        "    'genre': ['Action', 'Comedy', 'Action', 'Comedy', 'Fantasy', 'Fantasy', 'Sci-Fi']\n",
        "}\n",
        "movies_df = pd.DataFrame(movies_data)\n",
        "movies_df.to_csv('movies.csv', index=False)\n"
      ]
    },
    {
      "cell_type": "code",
      "execution_count": 21,
      "metadata": {
        "colab": {
          "base_uri": "https://localhost:8080/"
        },
        "id": "lRN9t_0JJpbu",
        "outputId": "7bef1531-a6e3-4646-bd91-981f4e1bb352"
      },
      "outputs": [
        {
          "name": "stdout",
          "output_type": "stream",
          "text": [
            "Evaluating RMSE, MAE of algorithm SVD on 5 split(s).\n",
            "\n",
            "                  Fold 1  Fold 2  Fold 3  Fold 4  Fold 5  Mean    Std     \n",
            "RMSE (testset)    0.5928  1.4288  1.5884  2.1107  1.2727  1.3987  0.4918  \n",
            "MAE (testset)     0.5841  1.3589  1.5757  1.8685  1.1526  1.3079  0.4328  \n",
            "Fit time          0.00    0.00    0.00    0.00    0.00    0.00    0.00    \n",
            "Test time         0.00    0.00    0.00    0.00    0.00    0.00    0.00    \n",
            "Top 10 recommendations for user 1:\n",
            "Movie Title: Mission Impossible, Predicted Rating: 3.746709069596183\n",
            "Movie Title: Mr. Bean, Predicted Rating: 3.468561257980013\n",
            "Movie Title: Hunger Games, Predicted Rating: 3.393804389357499\n",
            "Movie Title: Interstellar, Predicted Rating: 3.3772162720333028\n",
            "Movie Title: Phir hera pheri, Predicted Rating: 3.2343993596500287\n",
            "Movie Title: Fast and Furious, Predicted Rating: 3.180337960176656\n",
            "Movie Title: Harry Potters, Predicted Rating: 3.031954017987335\n"
          ]
        }
      ],
      "source": [
        "import pandas as pd\n",
        "from surprise import Dataset, Reader, SVD\n",
        "from surprise.model_selection import train_test_split, cross_validate\n",
        "\n",
        "# Load data\n",
        "ratings_data = pd.read_csv('ratings.csv')\n",
        "movies_data = pd.read_csv('movies.csv')\n",
        "\n",
        "# Define a reader\n",
        "reader = Reader(rating_scale=(1, 5))\n",
        "\n",
        "# Load the data into Surprise\n",
        "dataset = Dataset.load_from_df(ratings_data[['userId', 'movieId', 'rating']], reader)\n",
        "\n",
        "# Split the dataset into train and test sets\n",
        "trainset, testset = train_test_split(dataset, test_size=0.25)\n",
        "\n",
        "# Use the SVD algorithm for collaborative filtering\n",
        "algo = SVD()\n",
        "\n",
        "# Train the algorithm on the trainset\n",
        "algo.fit(trainset)\n",
        "\n",
        "# Evaluate the algorithm on the testset\n",
        "predictions = algo.test(testset)\n",
        "\n",
        "# Cross-validate the model\n",
        "cross_validate(algo, dataset, measures=['RMSE', 'MAE'], cv=5, verbose=True)\n",
        "\n",
        "# Function to get top N recommendations for a user\n",
        "def get_top_n_recommendations(userId, n=10):\n",
        "    # Get a list of all movie IDs\n",
        "    movie_ids = movies_data['movieId'].unique()\n",
        "\n",
        "    # Predict ratings for all movies for the given user\n",
        "    predictions = [algo.predict(userId, mid) for mid in movie_ids]\n",
        "\n",
        "    # Sort predictions by estimated rating\n",
        "    predictions.sort(key=lambda x: x.est, reverse=True)\n",
        "\n",
        "    # Get the top N recommendations\n",
        "    top_n_recommendations = predictions[:n]\n",
        "\n",
        "    # Get movie details for the top N recommendations\n",
        "    top_movies = [(movies_data.loc[movies_data['movieId'] == pred.iid]['title'].values[0], pred.est) for pred in top_n_recommendations]\n",
        "\n",
        "    return top_movies\n",
        "\n",
        "# Get top 10 recommendations for user with ID 1\n",
        "user_id = 1\n",
        "top_recommendations = get_top_n_recommendations(user_id, n=10)\n",
        "print(f\"Top 10 recommendations for user {user_id}:\")\n",
        "for title, rating in top_recommendations:\n",
        "    print(f\"Movie Title: {title}, Predicted Rating: {rating}\")\n"
      ]
    }
  ],
  "metadata": {
    "colab": {
      "provenance": []
    },
    "kernelspec": {
      "display_name": "Python 3",
      "name": "python3"
    },
    "language_info": {
      "name": "python"
    }
  },
  "nbformat": 4,
  "nbformat_minor": 0
}
