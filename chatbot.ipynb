{
 "cells": [
  {
   "cell_type": "code",
   "execution_count": null,
   "id": "fff1d077",
   "metadata": {},
   "outputs": [
    {
     "name": "stdout",
     "output_type": "stream",
     "text": [
      "Hello! I'm chatbot. How can I help you today?\n",
      "You: hi\n",
      "Chatbot: Hello! How can I assist you today?\n",
      "You: today weather\n",
      "Chatbot: I'm sorry, I don't understand that. Can you please rephrase?\n"
     ]
    }
   ],
   "source": [
    "def chatbot():\n",
    "    print(\"Hello! I'm chatbot. How can I help you today?\")\n",
    "\n",
    "    while True:\n",
    "        user_input = input(\"You: \").lower()\n",
    "\n",
    "        if \"hello\" in user_input or \"hi\" in user_input:\n",
    "            print(\"Chatbot: Hello! How can I assist you today?\")\n",
    "        elif \"how are you\" in user_input:\n",
    "            print(\"Chatbot: I'm just a bunch of code, but I'm doing great! How about you?\")\n",
    "        elif \"your name\" in user_input:\n",
    "            print(\"Chatbot: I'm just a simple chatbot without a name.\")\n",
    "        elif \"bye\" in user_input or \"exit\" in user_input:\n",
    "            print(\"Chatbot: Goodbye! Have a great day!\")\n",
    "            break\n",
    "        else:\n",
    "            print(\"Chatbot: I'm sorry, I don't understand that. Can you please rephrase?\")\n",
    "\n",
    "chatbot()\n"
   ]
  },
  {
   "cell_type": "code",
   "execution_count": null,
   "id": "ed3654ce",
   "metadata": {},
   "outputs": [],
   "source": []
  }
 ],
 "metadata": {
  "kernelspec": {
   "display_name": "Python 3",
   "language": "python",
   "name": "python3"
  },
  "language_info": {
   "codemirror_mode": {
    "name": "ipython",
    "version": 3
   },
   "file_extension": ".py",
   "mimetype": "text/x-python",
   "name": "python",
   "nbconvert_exporter": "python",
   "pygments_lexer": "ipython3",
   "version": "3.8.8"
  }
 },
 "nbformat": 4,
 "nbformat_minor": 5
}
